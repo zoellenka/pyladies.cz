{
 "metadata": {
  "name": "",
  "signature": "sha256:00946e19f77d4d38df54b77daa5e2cbca85515c0464de8d0fefc5293b5b6ee28"
 },
 "nbformat": 3,
 "nbformat_minor": 0,
 "worksheets": [
  {
   "cells": [
    {
     "cell_type": "markdown",
     "metadata": {},
     "source": [
      "# Requests\n",
      "\n",
      "Nejd\u0159iv si nainstaluj Requests, knihovnu pro webov\u00e9 klienty:\n",
      "\n",
      "    $ pip install requests\n",
      "    \n",
      "A pak v Pythonu:"
     ]
    },
    {
     "cell_type": "code",
     "collapsed": false,
     "input": [
      "import requests"
     ],
     "language": "python",
     "metadata": {},
     "outputs": [],
     "prompt_number": 1
    },
    {
     "cell_type": "markdown",
     "metadata": {},
     "source": [
      "Knihovna Requests ti umo\u017en\u00ed stahovat webov\u00e9 str\u00e1nky server\u016f na Internetu, podobn\u011b jako to d\u011bl\u00e1 webov\u00fd prohl\u00ed\u017ee\u010d.\n",
      "(Prohl\u00ed\u017ee\u010de um\u00ed pak str\u00e1nky um\u00ed i zobrazis, Requests je jen stahuje.)\n",
      "\n",
      "Zkus\u00edme si to nap\u0159ed se str\u00e1nkou http://python.cz:"
     ]
    },
    {
     "cell_type": "code",
     "collapsed": false,
     "input": [
      "odpoved = requests.get('http://python.cz')"
     ],
     "language": "python",
     "metadata": {},
     "outputs": [],
     "prompt_number": 2
    },
    {
     "cell_type": "markdown",
     "metadata": {},
     "source": [
      "Requests za tebe vytvo\u0159il dotaz, kter\u00fd poslal serveru jm\u00e9nem \"python.cz\". V dotazu jsou \"hlavi\u010dky\", kter\u00e9 ur\u010duj\u00ed co p\u0159esn\u011b st\u00e1hnout:"
     ]
    },
    {
     "cell_type": "code",
     "collapsed": false,
     "input": [
      "print(odpoved.request.headers)"
     ],
     "language": "python",
     "metadata": {},
     "outputs": [
      {
       "output_type": "stream",
       "stream": "stdout",
       "text": [
        "{'Connection': 'keep-alive', 'Accept-Encoding': 'gzip, deflate', 'Accept': '*/*', 'User-Agent': 'python-requests/2.5.0 CPython/2.7.8 Linux/3.18.5-201.fc21.x86_64'}\n"
       ]
      }
     ],
     "prompt_number": 3
    },
    {
     "cell_type": "markdown",
     "metadata": {},
     "source": [
      "Server pak vr\u00e1til odpov\u011b\u010f, kter\u00e1 m\u00e1 tak\u00e9 n\u011bjak\u00e9 hlavi\u010dky..."
     ]
    },
    {
     "cell_type": "code",
     "collapsed": false,
     "input": [
      "print(odpoved.headers)"
     ],
     "language": "python",
     "metadata": {},
     "outputs": [
      {
       "output_type": "stream",
       "stream": "stdout",
       "text": [
        "{'content-encoding': 'gzip', 'transfer-encoding': 'chunked', 'expires': 'Mon, 16 Feb 2015 10:00:50 GMT', 'server': 'GitHub.com', 'last-modified': 'Sun, 15 Feb 2015 19:38:20 GMT', 'cache-control': 'max-age=600', 'date': 'Mon, 16 Feb 2015 09:50:50 GMT', 'content-type': 'text/html; charset=utf-8'}\n"
       ]
      }
     ],
     "prompt_number": 4
    },
    {
     "cell_type": "markdown",
     "metadata": {},
     "source": [
      "... a hlavn\u011b t\u011blo odpov\u011bdi \u2013 v tomto p\u0159\u00edpad\u011b HTML str\u00e1nku:"
     ]
    },
    {
     "cell_type": "code",
     "collapsed": false,
     "input": [
      "print(odpoved.text[:200])  # text odpov\u011bdi"
     ],
     "language": "python",
     "metadata": {},
     "outputs": [
      {
       "output_type": "stream",
       "stream": "stdout",
       "text": [
        "<!doctype html>\n",
        "<html lang=\"cs\">\n",
        "<head>\n",
        "    <meta charset=\"utf-8\">\n",
        "\n",
        "    <title>Python, programovac\u00ed jazyk</title>\n",
        "    <meta property=\"og:title\" content=\"Python, programovac\u00ed jazyk\">\n",
        "\n",
        "    <meta name=\"d\n"
       ]
      }
     ],
     "prompt_number": 5
    },
    {
     "cell_type": "markdown",
     "metadata": {},
     "source": [
      "Kdy\u017e d\u00e1\u0161 v prohl\u00ed\u017ee\u010di zobrazit zdrojov\u00fd k\u00f3d str\u00e1nky http://python.cz, vypadat stejn\u011b.\n",
      "\n",
      "Requests toho um\u00ed spoustu; kompletn\u00ed dokumentace je na http://docs.python-requests.org.\n",
      "\n",
      "# Twitter API\n",
      "\n",
      "Norm\u00e1ln\u00ed internetov\u00e9 str\u00e1nky jsou uzp\u016fsoben\u00e9 pro lidsk\u00e9 \u010dten\u00e1\u0159e. Existuj\u00ed ale i \"str\u00e1nky\" d\u011blan\u00e9 na to, aby je zpracov\u00e1valy programy. V\u017eilo se pro n\u011b ozna\u010den\u00ed \"API\" (angl. Application Programming Interface, rozhran\u00ed pro programov\u00e1n\u00ed aplikac\u00ed). (P\u0159esn\u011bj\u0161\u00ed term\u00edn je \"Webov\u00e9 API\" nebo \"REST API\", proto\u017ee \"API\" ozna\u010dovat jak\u00e9koli program\u00e1torsk\u00e9 rozhran\u00ed \u2013 nap\u0159. seznam metod python\u00edch slovn\u00edk\u016f je slovn\u00edkov\u00e9 API.)\n",
      "\n",
      "Jedna ze str\u00e1nek, kter\u00e9 maj\u00ed API, je Twitter. Jejich API je na str\u00e1nce ttps://dev.twitter.com/rest/public. Zkusme ho pou\u017e\u00edt: na str\u00e1nce https://api.twitter.com/1.1/search/tweets.json by m\u011blo j\u00edt hledat tweety:"
     ]
    },
    {
     "cell_type": "code",
     "collapsed": false,
     "input": [
      "odpoved = requests.get('https://api.twitter.com/1.1/search/tweets.json')\n",
      "odpoved.text"
     ],
     "language": "python",
     "metadata": {},
     "outputs": [
      {
       "metadata": {},
       "output_type": "pyout",
       "prompt_number": 6,
       "text": [
        "'{\"errors\":[{\"code\":215,\"message\":\"Bad Authentication data.\"}]}'"
       ]
      }
     ],
     "prompt_number": 6
    },
    {
     "cell_type": "markdown",
     "metadata": {},
     "source": [
      "Aj, chyba! Twitter je zabezpe\u010den\u00fd. Mus\u00edme se p\u0159ihl\u00e1sit jako aplikace, co\u017e bohu\u017eel nen\u00ed v\u016fbec jednoduch\u00e9.\n",
      "\n",
      "Prvn\u00ed krok je klasick\u00e9 p\u0159ihl\u00e1\u0161en\u00ed (nebo vytvo\u0159en\u00ed \u00fa\u010dtu) na twitter.com. Potom jdi na str\u00e1nku https://apps.twitter.com/, a vytvo\u0159 si tam aplikaci. (Jako jm\u00e9no doporu\u010duju t\u0159eba \"*xyz*-test\" kde *xyz* je tvoje jm\u00e9no. Jako webovou adresu m\u016f\u017ee\u0161 pou\u017e\u00edt neexistuj\u00edc\u00ed \"http://test.example\". Je taky pot\u0159eba doplnit dostate\u010dn\u011b dlouh\u00fd popisek.)\n",
      "\n",
      "Po vytvo\u0159en\u00ed aplikace si otev\u0159i jej\u00ed z\u00e1znam a jdi na z\u00e1lo\u017eku \"Keys and Access Tokens\". Tam najde\u0161 dv\u011b speci\u00e1ln\u00ed hesla, kter\u00fdm se m\u016f\u017ee\u0161 p\u0159ihl\u00e1sit. Zkop\u00edruj si je do Pythonu:"
     ]
    },
    {
     "cell_type": "code",
     "collapsed": false,
     "input": [
      "# Dosa\u010f svoje \u00fadaje!\n",
      "api_key = \"D4HJp6PKmpon9eya1b2c3d4e5\"\n",
      "api_secret = \"rhvasRMhvbuHJpu4MIuAb4WO50gnoQa1b2c3d4e5f6g7h8i9j0\""
     ],
     "language": "python",
     "metadata": {},
     "outputs": [],
     "prompt_number": 7
    },
    {
     "cell_type": "markdown",
     "metadata": {},
     "source": [
      "Tyto k\u00f3dy je pot\u0159eba ur\u010dit\u00fdm zp\u016fsobem spojit dohromady a poslat Twitteru, aby vytvo\u0159il *dal\u0161\u00ed* heslo, kter\u00e9 pak p\u016fjde pou\u017e\u00edt pro API. Ten zp\u016fsob se na\u0161t\u011bst\u00ed d\u00e1 zapsat programem:"
     ]
    },
    {
     "cell_type": "code",
     "collapsed": false,
     "input": [
      "# Zak\u00f3dov\u00e1n\u00ed hesla\n",
      "import base64\n",
      "secret = '{}:{}'.format(api_key, api_secret)\n",
      "secret64 = base64.b64encode(secret.encode('ascii')).decode('ascii')\n",
      "\n",
      "# Vytvo\u0159en\u00ed speci\u00e1ln\u00ed hlavi\u010dky pro po\u017eadavek\n",
      "headers = {\n",
      "    'Authorization': 'Basic {}'.format(secret64),\n",
      "    'Host': 'api.twitter.com',\n",
      "}\n",
      "\n",
      "# Odesl\u00e1n\u00ed po\u017eadavku.\n",
      "# P\u0159edt\u00edm jsme pou\u017eily funkci \"requests.get\", kter\u00e1 st\u00e1hne informace ze serveru.\n",
      "# Tady je metoda \"requests.post\", kter\u00e1 serveru \u0159ekne aby provedl n\u011bjakou operaci.\n",
      "# GET, POST, a ostatn\u00ed HTTP metody jsou popsan\u00e9 na http://www.w3.org/Protocols/rfc2616/rfc2616-sec9.html\n",
      "odpoved = requests.post('https://api.twitter.com/oauth2/token',\n",
      "                        headers=headers,\n",
      "                        data={'grant_type': 'client_credentials'})\n",
      "odpoved.text"
     ],
     "language": "python",
     "metadata": {},
     "outputs": [
      {
       "metadata": {},
       "output_type": "pyout",
       "prompt_number": 8,
       "text": [
        "'{\"token_type\":\"bearer\",\"access_token\":\"AAAAAAAAAAAAAAAAAAAAAHhKXAAAAAAAaA1abB2bcC3cdD4deE5efF6fgG7ghH8hiI9ijJ0ja1b2c3d4e5f6g7h8i9j0a1b2c3d4e5f6g7h8i9j0\"}'"
       ]
      }
     ],
     "prompt_number": 8
    },
    {
     "cell_type": "markdown",
     "metadata": {},
     "source": [
      "Odpov\u011b\u010f n\u00e1m p\u0159i\u0161la jako \u0159et\u011bzec, ve form\u00e1tu JSON. JSON je ve sv\u011bt\u011b vebov\u00fdch API \u010dast\u00fd, a tak m\u00e1 Requests p\u0159\u00edmo metodu, kter\u00e1 JSON dek\u00f3duje. M\u016f\u017ee\u0161 si tak u\u0161et\u0159it psan\u00ed `import json` a `json.loads(odpoved.text)`.\n",
      "\n",
      "Z odpov\u011bdi n\u00e1s zaj\u00edm\u00e1 heslo jm\u00e9nem `access_token`."
     ]
    },
    {
     "cell_type": "code",
     "collapsed": false,
     "input": [
      "bearer_token = odpoved.json()['access_token']\n",
      "bearer_token"
     ],
     "language": "python",
     "metadata": {},
     "outputs": [
      {
       "metadata": {},
       "output_type": "pyout",
       "prompt_number": 9,
       "text": [
        "'AAAAAAAAAAAAAAAAAAAAAHhKXAAAAAAAaA1abB2bcC3cdD4deE5efF6fgG7ghH8hiI9ijJ0ja1b2c3d4e5f6g7h8i9j0a1b2c3d4e5f6g7h8i9j0'"
       ]
      }
     ],
     "prompt_number": 9
    },
    {
     "cell_type": "markdown",
     "metadata": {},
     "source": [
      "Tohle heslo si m\u016f\u017ee\u0161 zapsat p\u0159\u00edmo do programu, a jeho z\u00edsk\u00e1v\u00e1n\u00ed p\u0159\u00ed\u0161t\u011b p\u0159esko\u010dit (m\u00edsto v\u0161eho od `api_key = ...` napsat jen `berarer_token = 'AAAA...'`.\n",
      "\n",
      "Bl\u00ed\u017e\u00edme se ke konci! Te\u010f si ud\u011bl\u00e1me si objekt `Session` s nastaven\u00fdmi p\u0159ihla\u0161ovac\u00edmi \u00fadaji. T\u00edm \u0159ekneme knihovn\u011b Requests, aby tohle nov\u00e9 heslo pou\u017e\u00edvala pro dal\u0161\u00ed dotazy."
     ]
    },
    {
     "cell_type": "code",
     "collapsed": false,
     "input": [
      "def bearer_auth(req):\n",
      "    req.headers['Authorization'] = 'Bearer ' + bearer_token\n",
      "    return req\n",
      "\n",
      "session = requests.Session()\n",
      "session.auth = bearer_auth"
     ],
     "language": "python",
     "metadata": {},
     "outputs": [],
     "prompt_number": 10
    },
    {
     "cell_type": "markdown",
     "metadata": {},
     "source": [
      "A te\u010f kdy\u017e m\u00edsto `requests.get` pou\u017eije\u0161 `session.get`, bude\u0161 p\u0159ihl\u00e1\u0161en\u00e1.\n",
      "\n",
      "Zkus znovu st\u00e1hnout str\u00e1nku https://api.twitter.com/1.1/search/tweets.json. Tentokr\u00e1t s parametrem `'q'`, kter\u00fd \u0159\u00edk\u00e1 co hled\u00e1\u0161:"
     ]
    },
    {
     "cell_type": "code",
     "collapsed": false,
     "input": [
      "odpoved = session.get(\n",
      "    'https://api.twitter.com/1.1/search/tweets.json',\n",
      "    params={'q': '#vesm\u00edr'},\n",
      ")"
     ],
     "language": "python",
     "metadata": {},
     "outputs": [],
     "prompt_number": 11
    },
    {
     "cell_type": "markdown",
     "metadata": {},
     "source": [
      "Zkus si vypsat `odpoved.json()`. Zjist\u00ed\u0161, \u017ee je to slovn\u00edk pln\u00fd spooousty informac\u00ed. Nejzaj\u00edmav\u011bj\u0161\u00ed z nich je pod kl\u00ed\u010dem `'statuses'`: *seznam* tweet\u016f. Ka\u017ed\u00fd tweet je zase slovn\u00edk spousty informac\u00ed; samotn\u00fd text je pod kl\u00ed\u010dem `'text'`.\n",
      "\n",
      "Tweety se tedy daj\u00ed vypsat takhle:"
     ]
    },
    {
     "cell_type": "code",
     "collapsed": false,
     "input": [
      "data = odpoved.json()\n",
      "\n",
      "for tweet in data['statuses']:\n",
      "    print(tweet['text'])"
     ],
     "language": "python",
     "metadata": {},
     "outputs": [
      {
       "output_type": "stream",
       "stream": "stdout",
       "text": [
        "Zaj\u00edmav\u00e1 hypot\u00e9za o vlivu skryt\u00e9 #energie na trpasli\u010d\u00ed #galaxie. http://t.co/uiSRUA4ShF | #vesm\u00edr #temnaenergie\n",
        "RT @RudyMarsCz: Prob\u00edh\u00e1 na povrchu #Venu\u0161e aktivn\u00ed sope\u010dn\u00e1 \u010dinnost? Odpov\u011b\u010f nab\u00edz\u00ed RudyMars http://t.co/8tKms9tdfv #vesm\u00edr #astronomie #Cze\u2026\n",
        "Prob\u00edh\u00e1 na povrchu #Venu\u0161e aktivn\u00ed sope\u010dn\u00e1 \u010dinnost? Odpov\u011b\u010f nab\u00edz\u00ed RudyMars http://t.co/8tKms9tdfv #vesm\u00edr #astronomie #Czech #sopky\n",
        "RT @vjkombajn: Velk\u00fd t\u0159esk mo\u017en\u00e1 nebyl...\n",
        "http://t.co/Z22qVg8XmC #veda #vesmir\n",
        "RT @vjkombajn: Velk\u00fd t\u0159esk mo\u017en\u00e1 nebyl...\n",
        "http://t.co/Z22qVg8XmC #veda #vesmir\n",
        "RT @vjkombajn: Velk\u00fd t\u0159esk mo\u017en\u00e1 nebyl...\n",
        "http://t.co/Z22qVg8XmC #veda #vesmir\n",
        "RT @vjkombajn: Velk\u00fd t\u0159esk mo\u017en\u00e1 nebyl...\n",
        "http://t.co/Z22qVg8XmC #veda #vesmir\n",
        "RT @vjkombajn: Velk\u00fd t\u0159esk mo\u017en\u00e1 nebyl...\n",
        "http://t.co/Z22qVg8XmC #veda #vesmir\n",
        "Velk\u00fd t\u0159esk mo\u017en\u00e1 nebyl...\n",
        "http://t.co/Z22qVg8XmC #veda #vesmir\n",
        "Zozn\u00e1mte sa: Toto s\u00fa \u013eudia, ktor\u00ed chc\u00fa opusti\u0165 #Zem a kolonizova\u0165 #Mars http://t.co/FlaSwMuQSC #vesmir #kolonizacia #planetaMars\n",
        "RT @RudyMarsCz: Jak star\u00e9 jsou #sopky na Marsu? Odpov\u011b\u010f nab\u00edz\u00ed \u010dl\u00e1nek na RudyMars.cz http://t.co/iOTxYxoN3Q #vesm\u00edr #astronomie #Mars #Czech\n",
        "Jak star\u00e9 jsou #sopky na Marsu? Odpov\u011b\u010f nab\u00edz\u00ed \u010dl\u00e1nek na RudyMars.cz http://t.co/iOTxYxoN3Q #vesm\u00edr #astronomie #Mars #Czech\n",
        "RT @CRoPlus: Pod\u00edvejte se s n\u00e1mi do technologicky pokro\u010dil\u00e9ho planet\u00e1ria v Hradci Kr\u00e1lov\u00e9 http://t.co/uL0g0U4AeT #vesm\u00edr http://t.co/LbomIA\u2026\n",
        "RT @CRoPlus: Pod\u00edvejte se s n\u00e1mi do technologicky pokro\u010dil\u00e9ho planet\u00e1ria v Hradci Kr\u00e1lov\u00e9 http://t.co/uL0g0U4AeT #vesm\u00edr http://t.co/LbomIA\u2026\n",
        "Pod\u00edvejte se s n\u00e1mi do technologicky pokro\u010dil\u00e9ho planet\u00e1ria v Hradci Kr\u00e1lov\u00e9 http://t.co/uL0g0U4AeT #vesm\u00edr http://t.co/LbomIAfMVj\n"
       ]
      }
     ],
     "prompt_number": 12
    },
    {
     "cell_type": "markdown",
     "metadata": {},
     "source": [
      "Na z\u00e1v\u011br varov\u00e1n\u00ed: hesla z tohoto p\u0159\u00edkladu sice slou\u017e\u00ed jen pro \u010dten\u00ed, ale pokud se dostanou do \u0161patn\u00fdch rukou, d\u00e1 se s nimi nap\u00e1chat neplecha \u2013 Twitter ti pak m\u016f\u017ee zablokovat \u00fa\u010det, co\u017e je m\u016f\u017ee b\u00fdt docela nep\u0159\u00edjemn\u00e9.\n",
      "\n",
      "Hesla tedy nikomu neukazuj. Pokud je p\u0159esto n\u011bkdo nezvan\u00fd uvid\u00ed, jdi na https://apps.twitter.com a zm\u011b\u0148 je (tla\u010d\u00edtko \"Regenerate Consumer Key and Secret\" pod Keys and Access Tokens)."
     ]
    }
   ],
   "metadata": {}
  }
 ]
}